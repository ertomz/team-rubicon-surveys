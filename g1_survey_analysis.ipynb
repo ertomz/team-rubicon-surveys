{
 "cells": [
  {
   "cell_type": "code",
   "execution_count": 16,
   "metadata": {},
   "outputs": [],
   "source": [
    "import pandas as pd\n",
    "import numpy as np"
   ]
  },
  {
   "cell_type": "code",
   "execution_count": 17,
   "metadata": {},
   "outputs": [],
   "source": [
    "df = pd.read_csv(\"/Users/Emily/Documents/Team Rubicon/RollCall.Surveys/Analysis/Analysis/Group1.Responses/Group1.Responses.csv\",\n",
    "                escapechar='\\\\', quotechar='\"')"
   ]
  },
  {
   "cell_type": "code",
   "execution_count": 18,
   "metadata": {},
   "outputs": [],
   "source": [
    "## Date Analysis\n",
    "\n",
    "# Set up variables and lists\n",
    "count20 = 0\n",
    "count21 = 0\n",
    "count22 = 0\n",
    "count23 = 0\n",
    "count24 = 0\n",
    "count25 = 0\n",
    "count26 = 0\n",
    "count27 = 0\n",
    "count_list = [count20, count21, count22, count23, count24, count25, count26, count27]\n",
    "date_list = [\"7/20/2020\", \"7/21/2020\", \"7/22/2020\", \"7/23/2020\", \"7/24/2020\", \"7/25/2020\", \"7/26/2020\", \"7/27/2020\"]\n",
    "prop_list = []\n",
    "\n",
    "# Iterate through df for dates\n",
    "for index, line in df.iterrows():\n",
    "    stime = line[0]\n",
    "    sdate = stime.split()[0]\n",
    "    if (sdate == date_list[0]):\n",
    "        count_list[0] += 1\n",
    "    elif (sdate == date_list[1]):\n",
    "        count_list[1] += 1\n",
    "    elif (sdate == date_list[2]):\n",
    "        count_list[2] += 1\n",
    "    elif (sdate == date_list[3]):\n",
    "        count_list[3] += 1\n",
    "    elif (sdate == date_list[4]):\n",
    "        count_list[4] += 1\n",
    "    elif (sdate == date_list[5]):\n",
    "        count_list[5] += 1\n",
    "    elif (sdate == date_list[6]):\n",
    "        count_list[6] += 1\n",
    "    elif (sdate == date_list[7]):\n",
    "        count_list[7] += 1\n",
    "\n",
    "# Proportions\n",
    "total_count = sum(count_list)\n",
    "for count in count_list:\n",
    "    prop_list.append(round(count/total_count, 2))\n",
    "    \n",
    "# DataFrame\n",
    "data = []\n",
    "for i in range(0, len(count_list)):\n",
    "    data.append([date_list[i], count_list[i], prop_list[i]])\n",
    "df_date = pd.DataFrame(data, columns=['Date', 'Count', 'Proportion'])"
   ]
  },
  {
   "cell_type": "code",
   "execution_count": 37,
   "metadata": {},
   "outputs": [
    {
     "name": "stdout",
     "output_type": "stream",
     "text": [
      "[['Very appealing', 231], ['Somewhat appealing', 296], ['Neither appealing nor unappealing', 133], ['Somewhat unappealing', 24], ['Very unappealing', 6]]\n",
      "[['Very easy', 91], ['Somewhat easy', 306], ['Neither easy nor hard', 97], ['Somewhat hard', 157], ['Very hard', 39]]\n",
      "[['Very appealing', 231, 0.33], ['Somewhat appealing', 296, 0.43], ['Neither appealing nor unappealing', 133, 0.19], ['Somewhat unappealing', 24, 0.03], ['Very unappealing', 6, 0.01]]\n",
      "[['Very easy', 91, 0.13], ['Somewhat easy', 306, 0.44], ['Neither easy nor hard', 97, 0.14], ['Somewhat hard', 157, 0.23], ['Very hard', 39, 0.06]]\n"
     ]
    }
   ],
   "source": [
    "## Visual Appeal & Finding Items\n",
    "\n",
    "v_data = [[\"Very appealing\", 0], [\"Somewhat appealing\", 0], \n",
    "         [\"Neither appealing nor unappealing\", 0], [\"Somewhat unappealing\", 0],\n",
    "         [\"Very unappealing\", 0]]\n",
    "\n",
    "f_data = [[\"Very easy\", 0], [\"Somewhat easy\", 0],\n",
    "         [\"Neither easy nor hard\", 0], [\"Somewhat hard\", 0],\n",
    "         [\"Very hard\", 0]]\n",
    "\n",
    "total_count = 0\n",
    "\n",
    "# Iterate through df, add to lists\n",
    "for index, line in df.iterrows():\n",
    "    vapp = line[6]\n",
    "    fease = line[7]\n",
    "    for i in range(len(v_data)):\n",
    "        if vapp == v_data[i][0]:\n",
    "            v_data[i][1] += 1\n",
    "            total_count += 1\n",
    "            break\n",
    "    for j in range(len(f_data)):\n",
    "        if fease == f_data[j][0]:\n",
    "            f_data[j][1] += 1\n",
    "            break\n",
    "        \n",
    "print(v_data)\n",
    "print(f_data)\n",
    "\n",
    "# Proportions\n",
    "for k in range(len(v_data)):\n",
    "    v_prop = round(v_data[k][1]/total_count, 2)\n",
    "    f_prop = round(f_data[k][1]/total_count, 2)\n",
    "    \n",
    "    v_data[k].append(v_prop)\n",
    "    f_data[k].append(f_prop)\n",
    "    \n",
    "print(v_data)\n",
    "print(f_data)\n",
    "    \n",
    "\n",
    "# DataFrame\n",
    "df_v = pd.DataFrame(v_data, columns=['Visual Appeal', 'Count', 'Proportion'])\n",
    "df_f = pd.DataFrame(f_data, columns=['Finding Items', 'Count', 'Proportion'])\n"
   ]
  },
  {
   "cell_type": "code",
   "execution_count": 38,
   "metadata": {},
   "outputs": [],
   "source": [
    "## Excel\n",
    "\n",
    "with pd.ExcelWriter('G1.xlsx') as writer:\n",
    "    df_date.to_excel(writer, sheet_name='Dates', index=False)\n",
    "    df_v.to_excel(writer, sheet_name='Visual Appeal', index=False)\n",
    "    df_f.to_excel(writer, sheet_name='Finding Items', index=False)\n",
    "    "
   ]
  },
  {
   "cell_type": "code",
   "execution_count": 39,
   "metadata": {},
   "outputs": [
    {
     "ename": "ImportError",
     "evalue": "matplotlib is required for plotting when the default backend \"matplotlib\" is selected.",
     "output_type": "error",
     "traceback": [
      "\u001b[0;31m---------------------------------------------------------------------------\u001b[0m",
      "\u001b[0;31mImportError\u001b[0m                               Traceback (most recent call last)",
      "\u001b[0;32m<ipython-input-39-2b0035b91b30>\u001b[0m in \u001b[0;36m<module>\u001b[0;34m\u001b[0m\n\u001b[1;32m      1\u001b[0m \u001b[0;31m## Histogram\u001b[0m\u001b[0;34m\u001b[0m\u001b[0;34m\u001b[0m\u001b[0;34m\u001b[0m\u001b[0m\n\u001b[0;32m----> 2\u001b[0;31m \u001b[0mdf_v\u001b[0m\u001b[0;34m.\u001b[0m\u001b[0mplot\u001b[0m\u001b[0;34m.\u001b[0m\u001b[0mhist\u001b[0m\u001b[0;34m(\u001b[0m\u001b[0mbins\u001b[0m\u001b[0;34m=\u001b[0m\u001b[0;36m5\u001b[0m\u001b[0;34m)\u001b[0m\u001b[0;34m\u001b[0m\u001b[0;34m\u001b[0m\u001b[0m\n\u001b[0m",
      "\u001b[0;32m~/Library/Python/3.7/lib/python/site-packages/pandas/plotting/_core.py\u001b[0m in \u001b[0;36mhist\u001b[0;34m(self, by, bins, **kwargs)\u001b[0m\n\u001b[1;32m   1178\u001b[0m             \u001b[0;34m>>\u001b[0m\u001b[0;34m>\u001b[0m \u001b[0max\u001b[0m \u001b[0;34m=\u001b[0m \u001b[0mdf\u001b[0m\u001b[0;34m.\u001b[0m\u001b[0mplot\u001b[0m\u001b[0;34m.\u001b[0m\u001b[0mhist\u001b[0m\u001b[0;34m(\u001b[0m\u001b[0mbins\u001b[0m\u001b[0;34m=\u001b[0m\u001b[0;36m12\u001b[0m\u001b[0;34m,\u001b[0m \u001b[0malpha\u001b[0m\u001b[0;34m=\u001b[0m\u001b[0;36m0.5\u001b[0m\u001b[0;34m)\u001b[0m\u001b[0;34m\u001b[0m\u001b[0;34m\u001b[0m\u001b[0m\n\u001b[1;32m   1179\u001b[0m         \"\"\"\n\u001b[0;32m-> 1180\u001b[0;31m         \u001b[0;32mreturn\u001b[0m \u001b[0mself\u001b[0m\u001b[0;34m(\u001b[0m\u001b[0mkind\u001b[0m\u001b[0;34m=\u001b[0m\u001b[0;34m\"hist\"\u001b[0m\u001b[0;34m,\u001b[0m \u001b[0mby\u001b[0m\u001b[0;34m=\u001b[0m\u001b[0mby\u001b[0m\u001b[0;34m,\u001b[0m \u001b[0mbins\u001b[0m\u001b[0;34m=\u001b[0m\u001b[0mbins\u001b[0m\u001b[0;34m,\u001b[0m \u001b[0;34m**\u001b[0m\u001b[0mkwargs\u001b[0m\u001b[0;34m)\u001b[0m\u001b[0;34m\u001b[0m\u001b[0;34m\u001b[0m\u001b[0m\n\u001b[0m\u001b[1;32m   1181\u001b[0m \u001b[0;34m\u001b[0m\u001b[0m\n\u001b[1;32m   1182\u001b[0m     \u001b[0;32mdef\u001b[0m \u001b[0mkde\u001b[0m\u001b[0;34m(\u001b[0m\u001b[0mself\u001b[0m\u001b[0;34m,\u001b[0m \u001b[0mbw_method\u001b[0m\u001b[0;34m=\u001b[0m\u001b[0;32mNone\u001b[0m\u001b[0;34m,\u001b[0m \u001b[0mind\u001b[0m\u001b[0;34m=\u001b[0m\u001b[0;32mNone\u001b[0m\u001b[0;34m,\u001b[0m \u001b[0;34m**\u001b[0m\u001b[0mkwargs\u001b[0m\u001b[0;34m)\u001b[0m\u001b[0;34m:\u001b[0m\u001b[0;34m\u001b[0m\u001b[0;34m\u001b[0m\u001b[0m\n",
      "\u001b[0;32m~/Library/Python/3.7/lib/python/site-packages/pandas/plotting/_core.py\u001b[0m in \u001b[0;36m__call__\u001b[0;34m(self, *args, **kwargs)\u001b[0m\n\u001b[1;32m    765\u001b[0m \u001b[0;34m\u001b[0m\u001b[0m\n\u001b[1;32m    766\u001b[0m     \u001b[0;32mdef\u001b[0m \u001b[0m__call__\u001b[0m\u001b[0;34m(\u001b[0m\u001b[0mself\u001b[0m\u001b[0;34m,\u001b[0m \u001b[0;34m*\u001b[0m\u001b[0margs\u001b[0m\u001b[0;34m,\u001b[0m \u001b[0;34m**\u001b[0m\u001b[0mkwargs\u001b[0m\u001b[0;34m)\u001b[0m\u001b[0;34m:\u001b[0m\u001b[0;34m\u001b[0m\u001b[0;34m\u001b[0m\u001b[0m\n\u001b[0;32m--> 767\u001b[0;31m         \u001b[0mplot_backend\u001b[0m \u001b[0;34m=\u001b[0m \u001b[0m_get_plot_backend\u001b[0m\u001b[0;34m(\u001b[0m\u001b[0mkwargs\u001b[0m\u001b[0;34m.\u001b[0m\u001b[0mpop\u001b[0m\u001b[0;34m(\u001b[0m\u001b[0;34m\"backend\"\u001b[0m\u001b[0;34m,\u001b[0m \u001b[0;32mNone\u001b[0m\u001b[0;34m)\u001b[0m\u001b[0;34m)\u001b[0m\u001b[0;34m\u001b[0m\u001b[0;34m\u001b[0m\u001b[0m\n\u001b[0m\u001b[1;32m    768\u001b[0m \u001b[0;34m\u001b[0m\u001b[0m\n\u001b[1;32m    769\u001b[0m         x, y, kind, kwargs = self._get_call_args(\n",
      "\u001b[0;32m~/Library/Python/3.7/lib/python/site-packages/pandas/plotting/_core.py\u001b[0m in \u001b[0;36m_get_plot_backend\u001b[0;34m(backend)\u001b[0m\n\u001b[1;32m   1667\u001b[0m                 \u001b[0;34m\"matplotlib is required for plotting when the \"\u001b[0m\u001b[0;34m\u001b[0m\u001b[0;34m\u001b[0m\u001b[0m\n\u001b[1;32m   1668\u001b[0m                 \u001b[0;34m'default backend \"matplotlib\" is selected.'\u001b[0m\u001b[0;34m\u001b[0m\u001b[0;34m\u001b[0m\u001b[0m\n\u001b[0;32m-> 1669\u001b[0;31m             ) from None\n\u001b[0m\u001b[1;32m   1670\u001b[0m \u001b[0;34m\u001b[0m\u001b[0m\n\u001b[1;32m   1671\u001b[0m         \u001b[0m_backends\u001b[0m\u001b[0;34m[\u001b[0m\u001b[0;34m\"matplotlib\"\u001b[0m\u001b[0;34m]\u001b[0m \u001b[0;34m=\u001b[0m \u001b[0mmodule\u001b[0m\u001b[0;34m\u001b[0m\u001b[0;34m\u001b[0m\u001b[0m\n",
      "\u001b[0;31mImportError\u001b[0m: matplotlib is required for plotting when the default backend \"matplotlib\" is selected."
     ]
    }
   ],
   "source": [
    "## Histogram\n",
    "df_v.plot.hist(bins=5)"
   ]
  },
  {
   "cell_type": "code",
   "execution_count": null,
   "metadata": {},
   "outputs": [],
   "source": []
  }
 ],
 "metadata": {
  "kernelspec": {
   "display_name": "Python 3",
   "language": "python",
   "name": "python3"
  },
  "language_info": {
   "codemirror_mode": {
    "name": "ipython",
    "version": 3
   },
   "file_extension": ".py",
   "mimetype": "text/x-python",
   "name": "python",
   "nbconvert_exporter": "python",
   "pygments_lexer": "ipython3",
   "version": "3.7.2"
  }
 },
 "nbformat": 4,
 "nbformat_minor": 4
}
