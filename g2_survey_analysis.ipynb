{
 "cells": [
  {
   "cell_type": "code",
   "execution_count": 1,
   "metadata": {},
   "outputs": [],
   "source": [
    "import pandas as pd\n",
    "import numpy as np"
   ]
  },
  {
   "cell_type": "code",
   "execution_count": 2,
   "metadata": {},
   "outputs": [],
   "source": [
    "df = pd.read_csv(\"/Users/Emily/Documents/Team Rubicon/RollCall.Surveys/Analysis/Analysis/Group2.Responses/Group2.Responses.csv\",\n",
    "                escapechar='\\\\', quotechar='\"')"
   ]
  },
  {
   "cell_type": "code",
   "execution_count": 3,
   "metadata": {},
   "outputs": [],
   "source": [
    "## Date Analysis\n",
    "\n",
    "# Set up variables and lists\n",
    "d_data = [[\"7/20/2020\", 0], [\"7/21/2020\", 0], [\"7/22/2020\", 0],\n",
    "         [\"7/23/2020\", 0], [\"7/24/2020\", 0], [\"7/25/2020\", 0],\n",
    "         [\"7/26/2020\", 0], [\"7/27/2020\", 0]]\n",
    "total_count = 0\n",
    "\n",
    "# Iterate through df\n",
    "for index, line in df.iterrows():\n",
    "    sdate = line[0].split()[0]\n",
    "    for i in range(len(d_data)):\n",
    "        if sdate == d_data[i][0]:\n",
    "            d_data[i][1] += 1\n",
    "            total_count += 1\n",
    "            break\n",
    "\n",
    "#Proportions\n",
    "for i in range(len(d_data)):\n",
    "    d_prop = round(d_data[i][1]/total_count, 2)\n",
    "    d_data[i].append(d_prop)\n",
    "    \n",
    "    \n",
    "# DataFrame\n",
    "df_d = pd.DataFrame(d_data, columns=['Date', 'Count', 'Proportion'])"
   ]
  },
  {
   "cell_type": "code",
   "execution_count": 5,
   "metadata": {},
   "outputs": [],
   "source": [
    "## Why Unfinished\n",
    "\n",
    "# Variables\n",
    "r_others = []\n",
    "r_list = []\n",
    "\n",
    "r_data = [[\"Trainings were too difficult\", 0], [\"Trainings were too confusing\", 0], \n",
    "         [\"Trainings were too time-consuming\", 0], [\"Trainings were too boring\", 0],\n",
    "         [\"I am worried about COVID-19\", 0], [\"I couldn't find the trainings\", 0],\n",
    "         [\"I have other priorities\", 0], [\"I will finish the trainings later\", 0]]\n",
    "\n",
    "for index, line in df.iterrows():\n",
    "    reasons = line[6]\n",
    "    lst_reasons = reasons.split(',')\n",
    "    for r in lst_reasons:\n",
    "        for i in range(len(r_data)):\n",
    "            if r == r_data[i][0]:\n",
    "                r_data[i][1] += 1\n",
    "                break\n",
    "            elif i == len(r_data)-1:\n",
    "                email = line[2]\n",
    "                name = line[3]\n",
    "                r_others.append([email, name, r])\n",
    "            \n",
    "df_reasons = pd.DataFrame(r_data, columns=['Reason', 'Count'])\n",
    "\n",
    "df_reasons_other = pd.DataFrame(r_others, columns=['Email', 'Name', 'Reasons'])\n"
   ]
  },
  {
   "cell_type": "code",
   "execution_count": 6,
   "metadata": {},
   "outputs": [],
   "source": [
    "# Export to Excel\n",
    "\n",
    "with pd.ExcelWriter('G2.xlsx') as writer:\n",
    "    df_d.to_excel(writer, sheet_name='Dates', index=False)\n",
    "    df_reasons.to_excel(writer, sheet_name='Reasons', index=False)\n",
    "    df_reasons_other.to_excel(writer, sheet_name='Other Reasons', index=False)"
   ]
  },
  {
   "cell_type": "code",
   "execution_count": null,
   "metadata": {},
   "outputs": [],
   "source": []
  },
  {
   "cell_type": "code",
   "execution_count": null,
   "metadata": {},
   "outputs": [],
   "source": []
  },
  {
   "cell_type": "code",
   "execution_count": null,
   "metadata": {},
   "outputs": [],
   "source": []
  },
  {
   "cell_type": "code",
   "execution_count": null,
   "metadata": {},
   "outputs": [],
   "source": []
  },
  {
   "cell_type": "code",
   "execution_count": null,
   "metadata": {},
   "outputs": [],
   "source": []
  },
  {
   "cell_type": "code",
   "execution_count": null,
   "metadata": {},
   "outputs": [],
   "source": []
  },
  {
   "cell_type": "code",
   "execution_count": null,
   "metadata": {},
   "outputs": [],
   "source": []
  },
  {
   "cell_type": "code",
   "execution_count": null,
   "metadata": {},
   "outputs": [],
   "source": []
  },
  {
   "cell_type": "code",
   "execution_count": null,
   "metadata": {},
   "outputs": [],
   "source": []
  }
 ],
 "metadata": {
  "kernelspec": {
   "display_name": "Python 3",
   "language": "python",
   "name": "python3"
  },
  "language_info": {
   "codemirror_mode": {
    "name": "ipython",
    "version": 3
   },
   "file_extension": ".py",
   "mimetype": "text/x-python",
   "name": "python",
   "nbconvert_exporter": "python",
   "pygments_lexer": "ipython3",
   "version": "3.7.2"
  }
 },
 "nbformat": 4,
 "nbformat_minor": 4
}
