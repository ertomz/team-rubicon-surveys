{
 "cells": [
  {
   "cell_type": "code",
   "execution_count": 4,
   "metadata": {},
   "outputs": [],
   "source": [
    "import pandas as pd\n",
    "import numpy as np"
   ]
  },
  {
   "cell_type": "code",
   "execution_count": 5,
   "metadata": {},
   "outputs": [],
   "source": [
    "df = pd.read_csv(\"/Users/Emily/Documents/Team Rubicon/RollCall.Surveys/Analysis/Analysis/Group2.Responses/Group2.Responses.csv\",\n",
    "                escapechar='\\\\', quotechar='\"')"
   ]
  },
  {
   "cell_type": "code",
   "execution_count": 6,
   "metadata": {},
   "outputs": [],
   "source": [
    "## Date Analysis\n",
    "\n",
    "# Set up variables and lists\n",
    "count20 = 0\n",
    "count21 = 0\n",
    "count22 = 0\n",
    "count23 = 0\n",
    "count24 = 0\n",
    "count25 = 0\n",
    "count26 = 0\n",
    "count27 = 0\n",
    "count_list = [count20, count21, count22, count23, count24, count25, count26, count27]\n",
    "date_list = [\"7/20/2020\", \"7/21/2020\", \"7/22/2020\", \"7/23/2020\", \"7/24/2020\", \"7/25/2020\", \"7/26/2020\", \"7/27/2020\"]\n",
    "prop_list = []\n",
    "\n",
    "# Iterate through df for dates\n",
    "for index, line in df.iterrows():\n",
    "    stime = line[0]\n",
    "    sdate = stime.split()[0]\n",
    "    if (sdate == date_list[0]):\n",
    "        count_list[0] += 1\n",
    "    elif (sdate == date_list[1]):\n",
    "        count_list[1] += 1\n",
    "    elif (sdate == date_list[2]):\n",
    "        count_list[2] += 1\n",
    "    elif (sdate == date_list[3]):\n",
    "        count_list[3] += 1\n",
    "    elif (sdate == date_list[4]):\n",
    "        count_list[4] += 1\n",
    "    elif (sdate == date_list[5]):\n",
    "        count_list[5] += 1\n",
    "    elif (sdate == date_list[6]):\n",
    "        count_list[6] += 1\n",
    "    elif (sdate == date_list[7]):\n",
    "        count_list[7] += 1\n",
    "\n",
    "# Proportions\n",
    "total_count = sum(count_list)\n",
    "for count in count_list:\n",
    "    prop_list.append(round(count/total_count, 2))\n",
    "    \n",
    "# DataFrame\n",
    "data = []\n",
    "for i in range(0, len(count_list)):\n",
    "    data.append([date_list[i], count_list[i], prop_list[i]])\n",
    "df_date = pd.DataFrame(data, columns=['Date', 'Count', 'Proportion'])\n"
   ]
  },
  {
   "cell_type": "code",
   "execution_count": 10,
   "metadata": {},
   "outputs": [],
   "source": [
    "## Why Unfinished\n",
    "\n",
    "# Variables\n",
    "r_others = []\n",
    "r_list = []\n",
    "\n",
    "r_data = [[\"Trainings were too difficult\", 0], [\"Trainings were too confusing\", 0], \n",
    "         [\"Trainings were too time-consuming\", 0], [\"Trainings were too boring\", 0],\n",
    "         [\"I am worried about COVID-19\", 0], [\"I couldn't find the trainings\", 0],\n",
    "         [\"I have other priorities\", 0], [\"I will finish the trainings later\", 0]]\n",
    "\n",
    "for index, line in df.iterrows():\n",
    "    reasons = line[6]\n",
    "    lst_reasons = reasons.split(',')\n",
    "    for r in lst_reasons:\n",
    "        for i in range(len(r_data)):\n",
    "            if r == r_data[i][0]:\n",
    "                r_data[i][1] += 1\n",
    "                break\n",
    "            elif i == len(r_data)-1:\n",
    "                email = line[2]\n",
    "                name = line[3]\n",
    "                r_others.append([email, name, re])\n",
    "            \n",
    "df_reasons = pd.DataFrame(r_data, columns=['Reason', 'Count'])\n",
    "\n",
    "df_reasons_other = pd.DataFrame(r_others, columns=['Email', 'Name', 'Reasons'])\n"
   ]
  },
  {
   "cell_type": "code",
   "execution_count": 80,
   "metadata": {},
   "outputs": [],
   "source": []
  },
  {
   "cell_type": "code",
   "execution_count": null,
   "metadata": {},
   "outputs": [],
   "source": [
    "# Export to Excel\n",
    "\n",
    "with pd.ExcelWriter('G2.xlsx') as writer:\n",
    "    df_date.to_excel(writer, sheet_name='Dates', index=False)\n",
    "    df_reasons.to_excel(writer, sheet_name='Reasons', index=False)\n",
    "    df_reasons_other.to_excel(writer, sheet_name='Other Reasons', index=False)"
   ]
  },
  {
   "cell_type": "code",
   "execution_count": null,
   "metadata": {},
   "outputs": [],
   "source": []
  },
  {
   "cell_type": "code",
   "execution_count": null,
   "metadata": {},
   "outputs": [],
   "source": []
  },
  {
   "cell_type": "code",
   "execution_count": null,
   "metadata": {},
   "outputs": [],
   "source": []
  },
  {
   "cell_type": "code",
   "execution_count": null,
   "metadata": {},
   "outputs": [],
   "source": []
  },
  {
   "cell_type": "code",
   "execution_count": null,
   "metadata": {},
   "outputs": [],
   "source": []
  },
  {
   "cell_type": "code",
   "execution_count": null,
   "metadata": {},
   "outputs": [],
   "source": []
  },
  {
   "cell_type": "code",
   "execution_count": null,
   "metadata": {},
   "outputs": [],
   "source": []
  },
  {
   "cell_type": "code",
   "execution_count": null,
   "metadata": {},
   "outputs": [],
   "source": []
  },
  {
   "cell_type": "code",
   "execution_count": null,
   "metadata": {},
   "outputs": [],
   "source": []
  }
 ],
 "metadata": {
  "kernelspec": {
   "display_name": "Python 3",
   "language": "python",
   "name": "python3"
  },
  "language_info": {
   "codemirror_mode": {
    "name": "ipython",
    "version": 3
   },
   "file_extension": ".py",
   "mimetype": "text/x-python",
   "name": "python",
   "nbconvert_exporter": "python",
   "pygments_lexer": "ipython3",
   "version": "3.7.2"
  }
 },
 "nbformat": 4,
 "nbformat_minor": 4
}
